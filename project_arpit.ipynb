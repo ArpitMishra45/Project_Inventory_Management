{
  "nbformat": 4,
  "nbformat_minor": 0,
  "metadata": {
    "colab": {
      "name": "project_arpit.ipynb",
      "provenance": []
    },
    "kernelspec": {
      "name": "python3",
      "display_name": "Python 3"
    },
    "language_info": {
      "name": "python"
    }
  },
  "cells": [
    {
      "cell_type": "code",
      "metadata": {
        "id": "MUjcjxZEU8KZ"
      },
      "source": [
        "import json\n",
        "records={\"1001\": {\"name\": \"Choco Cake\", \"qn\": 34, \"pr\": 100}, \"1002\": {\"name\": \"Milk Cake\", \"pr\": 800, \"qn\": 100}, \"1003\": {\"name\": \"Drink\", \"pr\": 85, \"qn\": 100}, \"1004\": {\"name\": \"Candy\", \"pr\": 5, \"qn\": 1000}, \"1005\": {\"name\": \"Pen\", \"pr\": 20, \"qn\": 100}, \"1006\": {\"name\": \"Phone\", \"pr\": 50000, \"qn\": 10}, \"1007\": {\"name\": \"Mic\", \"pr\": 1500, \"qn\": 0}, \"1008\": {\"name\": \"Case\", \"pr\": 599, \"qn\": 5}, \"1009\": {\"name\": \"Keyboard\", \"pr\": 1999, \"qn\": 10}}\n",
        "rec= json.dumps(records)"
      ],
      "execution_count": 13,
      "outputs": []
    },
    {
      "cell_type": "code",
      "metadata": {
        "id": "D4hChUlAXm5H"
      },
      "source": [
        "fd=open('record.json','w')\n",
        "fd.write(rec)\n",
        "fd.close()\n"
      ],
      "execution_count": 14,
      "outputs": []
    },
    {
      "cell_type": "code",
      "metadata": {
        "colab": {
          "base_uri": "https://localhost:8080/"
        },
        "id": "5FmG-XFQZNI5",
        "outputId": "103fb1e8-287a-46b3-f852-0e114fef0616"
      },
      "source": [
        "for i in range(21):\n",
        "  prod_id=input('prod_id')\n",
        "  u_name=input('name')\n",
        "  u_qn=int(input('qn'))\n",
        "  u_pr=int(input('pr'))\n",
        "  records[prod_id]={'name':u_name,'qn':u_qn,'pr':u_pr}\n"
      ],
      "execution_count": 16,
      "outputs": [
        {
          "name": "stdout",
          "output_type": "stream",
          "text": [
            "prod_id1010\n",
            "nameMaggie\n",
            "qn8\n",
            "pr22\n",
            "prod_id1011\n",
            "namebourbon\n",
            "qn20\n",
            "pr10\n",
            "prod_id1012\n",
            "nameamul ice-cream\n",
            "qn50\n",
            "pr15\n",
            "prod_id1013\n",
            "nameatta noodles\n",
            "qn11\n",
            "pr15\n",
            "prod_id1014\n",
            "namegillete\n",
            "qn45\n",
            "pr80\n",
            "prod_id1015\n",
            "nameface-wash\n",
            "qn50\n",
            "pr50\n",
            "prod_id1016\n",
            "nameoreo\n",
            "qn40\n",
            "pr10\n",
            "prod_id1017\n",
            "namecello-bottle\n",
            "qn700\n",
            "pr850\n",
            "prod_id1018\n",
            "namelaptop\n",
            "qn100\n",
            "pr49000\n",
            "prod_id1019\n",
            "nametable\n",
            "qn10\n",
            "pr500\n",
            "prod_id1020\n",
            "namehimalya face-wash\n",
            "qn12\n",
            "pr30\n",
            "prod_id1021\n",
            "namecopy\n",
            "qn60\n",
            "pr60\n",
            "prod_id1022\n",
            "namewhitener\n",
            "qn60\n",
            "pr15\n",
            "prod_id1023\n",
            "namecurtains\n",
            "qn80\n",
            "pr600\n",
            "prod_id1024\n",
            "namevalorant dvd\n",
            "qn5\n",
            "pr1000\n",
            "prod_idps4\n",
            "name-\n",
            "qn5\n",
            "pr9000\n",
            "prod_id1025\n",
            "nameps5\n",
            "qn20\n",
            "pr60000\n",
            "prod_id1026\n",
            "nameparker\n",
            "qn50\n",
            "pr100\n",
            "prod_id1027\n",
            "nametrimax\n",
            "qn70\n",
            "pr45\n",
            "prod_id1028\n",
            "nameone piece manga volume 100\n",
            "qn1\n",
            "pr650\n",
            "prod_id1029\n",
            "nameregister\n",
            "qn20\n",
            "pr65\n"
          ]
        }
      ]
    },
    {
      "cell_type": "code",
      "metadata": {
        "id": "Q3ONkxf_a95Q"
      },
      "source": [
        "records['1030']={'name':'black clover volme 31','qn':50,'pr':450}"
      ],
      "execution_count": 17,
      "outputs": []
    },
    {
      "cell_type": "code",
      "metadata": {
        "id": "ViXj7je6fqoD"
      },
      "source": [
        "a=json.dumps(records)"
      ],
      "execution_count": 19,
      "outputs": []
    },
    {
      "cell_type": "code",
      "metadata": {
        "id": "zQTO5F2efvJd"
      },
      "source": [
        "del records['ps4']"
      ],
      "execution_count": 20,
      "outputs": []
    },
    {
      "cell_type": "code",
      "metadata": {
        "colab": {
          "base_uri": "https://localhost:8080/"
        },
        "id": "iJD9Elxqio05",
        "outputId": "62f0568d-ce26-4165-c7e2-e9c8eace28d1"
      },
      "source": [
        "print(records)"
      ],
      "execution_count": 21,
      "outputs": [
        {
          "output_type": "stream",
          "name": "stdout",
          "text": [
            "{'1001': {'name': 'Choco Cake', 'qn': 34, 'pr': 100}, '1002': {'name': 'Milk Cake', 'pr': 800, 'qn': 100}, '1003': {'name': 'Drink', 'pr': 85, 'qn': 100}, '1004': {'name': 'Candy', 'pr': 5, 'qn': 1000}, '1005': {'name': 'Pen', 'pr': 20, 'qn': 100}, '1006': {'name': 'Phone', 'pr': 50000, 'qn': 10}, '1007': {'name': 'Mic', 'pr': 1500, 'qn': 0}, '1008': {'name': 'Case', 'pr': 599, 'qn': 5}, '1009': {'name': 'Keyboard', 'pr': 1999, 'qn': 10}, '1010': {'name': 'Maggie', 'qn': 8, 'pr': 22}, '1011': {'name': 'bourbon', 'qn': 20, 'pr': 10}, '1012': {'name': 'amul ice-cream', 'qn': 50, 'pr': 15}, '1013': {'name': 'atta noodles', 'qn': 11, 'pr': 15}, '1014': {'name': 'gillete', 'qn': 45, 'pr': 80}, '1015': {'name': 'face-wash', 'qn': 50, 'pr': 50}, '1016': {'name': 'oreo', 'qn': 40, 'pr': 10}, '1017': {'name': 'cello-bottle', 'qn': 700, 'pr': 850}, '1018': {'name': 'laptop', 'qn': 100, 'pr': 49000}, '1019': {'name': 'table', 'qn': 10, 'pr': 500}, '1020': {'name': 'himalya face-wash', 'qn': 12, 'pr': 30}, '1021': {'name': 'copy', 'qn': 60, 'pr': 60}, '1022': {'name': 'whitener', 'qn': 60, 'pr': 15}, '1023': {'name': 'curtains', 'qn': 80, 'pr': 600}, '1024': {'name': 'valorant dvd', 'qn': 5, 'pr': 1000}, '1025': {'name': 'ps5', 'qn': 20, 'pr': 60000}, '1026': {'name': 'parker', 'qn': 50, 'pr': 100}, '1027': {'name': 'trimax', 'qn': 70, 'pr': 45}, '1028': {'name': 'one piece manga volume 100', 'qn': 1, 'pr': 650}, '1029': {'name': 'register', 'qn': 20, 'pr': 65}, '1030': {'name': 'black clover volme 31', 'qn': 50, 'pr': 450}}\n"
          ]
        }
      ]
    },
    {
      "cell_type": "code",
      "metadata": {
        "id": "sFVsV6GaiuiU"
      },
      "source": [
        "a=json.dumps(records)\n"
      ],
      "execution_count": 22,
      "outputs": []
    },
    {
      "cell_type": "code",
      "metadata": {
        "id": "mjpZwIMZi5qN"
      },
      "source": [
        "fd=open('record.json','w')\n",
        "fd.write(a)\n",
        "fd.close()"
      ],
      "execution_count": 23,
      "outputs": []
    },
    {
      "cell_type": "markdown",
      "metadata": {
        "id": "AZ2bPdHUlcSh"
      },
      "source": [
        "# **Purchase**"
      ]
    },
    {
      "cell_type": "code",
      "metadata": {
        "colab": {
          "base_uri": "https://localhost:8080/"
        },
        "id": "tqWPJpG3jGXx",
        "outputId": "53263b8d-15a7-4794-e136-687b5b09bf3a"
      },
      "source": [
        "for i in range(3):  \n",
        "  ui_prod=input('prod_id')\n",
        "  ui_quant=int(input('qn'))\n",
        "  records[ui_prod]['qn']=records[ui_prod]['qn']-ui_quant\n"
      ],
      "execution_count": 26,
      "outputs": [
        {
          "name": "stdout",
          "output_type": "stream",
          "text": [
            "prod_id1012\n",
            "qn2\n",
            "prod_id1028\n",
            "qn1\n",
            "prod_id1016\n",
            "qn10\n"
          ]
        }
      ]
    },
    {
      "cell_type": "code",
      "metadata": {
        "colab": {
          "base_uri": "https://localhost:8080/"
        },
        "id": "dTfmQ3wOmiy-",
        "outputId": "67f815b4-5225-462e-fbe8-c68249084d02"
      },
      "source": [
        "print(records)"
      ],
      "execution_count": 27,
      "outputs": [
        {
          "output_type": "stream",
          "name": "stdout",
          "text": [
            "{'1001': {'name': 'Choco Cake', 'qn': 34, 'pr': 100}, '1002': {'name': 'Milk Cake', 'pr': 800, 'qn': 100}, '1003': {'name': 'Drink', 'pr': 85, 'qn': 100}, '1004': {'name': 'Candy', 'pr': 5, 'qn': 1000}, '1005': {'name': 'Pen', 'pr': 20, 'qn': 100}, '1006': {'name': 'Phone', 'pr': 50000, 'qn': 10}, '1007': {'name': 'Mic', 'pr': 1500, 'qn': 0}, '1008': {'name': 'Case', 'pr': 599, 'qn': 5}, '1009': {'name': 'Keyboard', 'pr': 1999, 'qn': 10}, '1010': {'name': 'Maggie', 'qn': 8, 'pr': 22}, '1011': {'name': 'bourbon', 'qn': 20, 'pr': 10}, '1012': {'name': 'amul ice-cream', 'qn': 48, 'pr': 15}, '1013': {'name': 'atta noodles', 'qn': 11, 'pr': 15}, '1014': {'name': 'gillete', 'qn': 45, 'pr': 80}, '1015': {'name': 'face-wash', 'qn': 50, 'pr': 50}, '1016': {'name': 'oreo', 'qn': 30, 'pr': 10}, '1017': {'name': 'cello-bottle', 'qn': 700, 'pr': 850}, '1018': {'name': 'laptop', 'qn': 100, 'pr': 49000}, '1019': {'name': 'table', 'qn': 10, 'pr': 500}, '1020': {'name': 'himalya face-wash', 'qn': 12, 'pr': 30}, '1021': {'name': 'copy', 'qn': 60, 'pr': 60}, '1022': {'name': 'whitener', 'qn': 60, 'pr': 15}, '1023': {'name': 'curtains', 'qn': 80, 'pr': 600}, '1024': {'name': 'valorant dvd', 'qn': 5, 'pr': 1000}, '1025': {'name': 'ps5', 'qn': 20, 'pr': 60000}, '1026': {'name': 'parker', 'qn': 50, 'pr': 100}, '1027': {'name': 'trimax', 'qn': 70, 'pr': 45}, '1028': {'name': 'one piece manga volume 100', 'qn': 0, 'pr': 650}, '1029': {'name': 'register', 'qn': 20, 'pr': 65}, '1030': {'name': 'black clover volme 31', 'qn': 50, 'pr': 450}}\n"
          ]
        }
      ]
    },
    {
      "cell_type": "code",
      "metadata": {
        "id": "I3tyIUejnrvy"
      },
      "source": [
        "a=json.dumps(records)\n",
        "fd=open('record.json','w')\n",
        "fd.write(a)\n",
        "fd.close()"
      ],
      "execution_count": 28,
      "outputs": []
    },
    {
      "cell_type": "code",
      "metadata": {
        "id": "vu6nH2l7ojiU"
      },
      "source": [
        ""
      ],
      "execution_count": null,
      "outputs": []
    }
  ]
}